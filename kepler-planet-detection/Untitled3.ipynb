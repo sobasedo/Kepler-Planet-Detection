{
 "cells": [
  {
   "cell_type": "code",
   "execution_count": 1,
   "id": "0567e3b6-d725-473c-8a71-e3c02aa5f324",
   "metadata": {},
   "outputs": [
    {
     "ename": "ModuleNotFoundError",
     "evalue": "No module named 'lightkurve'",
     "output_type": "error",
     "traceback": [
      "\u001b[0;31m---------------------------------------------------------------------------\u001b[0m",
      "\u001b[0;31mModuleNotFoundError\u001b[0m                       Traceback (most recent call last)",
      "Cell \u001b[0;32mIn[1], line 1\u001b[0m\n\u001b[0;32m----> 1\u001b[0m \u001b[38;5;28;01mimport\u001b[39;00m \u001b[38;5;21;01mlightkurve\u001b[39;00m \u001b[38;5;28;01mas\u001b[39;00m \u001b[38;5;21;01mlk\u001b[39;00m\n\u001b[1;32m      2\u001b[0m \u001b[38;5;28;01mimport\u001b[39;00m \u001b[38;5;21;01mmatplotlib\u001b[39;00m\u001b[38;5;21;01m.\u001b[39;00m\u001b[38;5;21;01mpyplot\u001b[39;00m \u001b[38;5;28;01mas\u001b[39;00m \u001b[38;5;21;01mplt\u001b[39;00m\n\u001b[1;32m      4\u001b[0m \u001b[38;5;66;03m# Kepler ID'si (örneğin, 6922244) olan bir yıldızın verilerini indirin\u001b[39;00m\n",
      "\u001b[0;31mModuleNotFoundError\u001b[0m: No module named 'lightkurve'"
     ]
    }
   ],
   "source": [
    "import lightkurve as lk\n",
    "import matplotlib.pyplot as plt\n",
    "\n",
    "# Kepler ID'si (örneğin, 6922244) olan bir yıldızın verilerini indirin\n",
    "kepler_id = '6922244'\n",
    "lc = lk.search_lightcurvefile(f'KIC {kepler_id}', mission='Kepler').download().PDCSAP_FLUX\n",
    "\n",
    "# Işık eğrisini çiz\n",
    "lc.plot()\n",
    "plt.title(f'Kepler Light Curve for KIC {kepler_id}')\n",
    "plt.show()\n",
    "\n",
    "# Detrend ışık eğrisi (uzun süreli değişimleri çıkar)\n",
    "lc_detrended = lc.remove_trends()\n",
    "lc_detrended.plot()\n",
    "plt.title(f'Detrended Kepler Light Curve for KIC {kepler_id}')\n",
    "plt.show()\n",
    "\n",
    "# Transit araması yap\n",
    "periodogram = lc_detrended.to_periodogram()\n",
    "periodogram.plot()\n",
    "plt.title(f'Periodogram for KIC {kepler_id}')\n",
    "plt.show()\n",
    "\n",
    "# En güçlü sinyali göster\n",
    "best_period = periodogram.period_at_max_power\n",
    "print(f'Best period: {best_period}')\n"
   ]
  },
  {
   "cell_type": "code",
   "execution_count": null,
   "id": "673c4b70-bf0c-460e-80b4-2e3d3f9bfcd6",
   "metadata": {},
   "outputs": [],
   "source": []
  }
 ],
 "metadata": {
  "kernelspec": {
   "display_name": "Python 3 (ipykernel)",
   "language": "python",
   "name": "python3"
  },
  "language_info": {
   "codemirror_mode": {
    "name": "ipython",
    "version": 3
   },
   "file_extension": ".py",
   "mimetype": "text/x-python",
   "name": "python",
   "nbconvert_exporter": "python",
   "pygments_lexer": "ipython3",
   "version": "3.9.19"
  }
 },
 "nbformat": 4,
 "nbformat_minor": 5
}
